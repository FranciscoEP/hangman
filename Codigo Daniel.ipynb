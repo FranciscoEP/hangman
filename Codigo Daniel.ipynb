{
 "cells": [
  {
   "cell_type": "markdown",
   "id": "3f7a814d",
   "metadata": {},
   "source": [
    "### Subir a la rama cambiosdaniel, no a otra. Se hará un pull request a la rama principal hasta el final."
   ]
  },
  {
   "cell_type": "code",
   "execution_count": 3,
   "id": "f9e609f3",
   "metadata": {},
   "outputs": [],
   "source": [
    "import random"
   ]
  },
  {
   "cell_type": "markdown",
   "id": "6305267a",
   "metadata": {},
   "source": [
    "### EL mejorcito\n",
    "\n",
    "Consideraciones:\n",
    "1. No todas las letras son reconocidas, en el intento te manda a error.\n",
    "2. No para cuando gana.\n",
    "3. A veces No para cuando pierde.\n",
    "4. No se porqué no reconoce todas las letras, en evolución del código (ver mas abajo) si las puede reconocer.\n",
    "5. Ya puede intercambiar el signo de interrogacion por la letra :) \n",
    "6. se añade la impresion del diccionario para corroborar letras e indices\n",
    "7. es necesario para ganar que las letras vayan en orden\n",
    "\n",
    "\n",
    "Si se va a correr que sea con la opcion 1"
   ]
  },
  {
   "cell_type": "code",
   "execution_count": 10,
   "id": "4fa6bf32",
   "metadata": {},
   "outputs": [],
   "source": [
    "#mejorcito\n",
    "lista_palabras_1= ['gato', 'pez', 'casa', 'plato','raton','cinco']\n",
    "lista_palabras_2= ['control','medusa','arroyo','saxofon'] \n",
    "lista_palabras_3= ['botanico', 'rascacielos', 'television']\n",
    "\n",
    "\n",
    "def selecciona_palabra(n): \n",
    "    if n==1:\n",
    "        palabra= random.choice(lista_palabras_1) \n",
    "        print(palabra)\n",
    "        dicc_letra= dict([i for i in enumerate(palabra)])\n",
    "        print('diccionario index_word:',dicc_letra)\n",
    "        descubierto=[' ? ' for i in palabra ]\n",
    "        \n",
    "    oportunidades= 10\n",
    "    flg=0\n",
    "    while oportunidades>=0 or flg==len(palabra):\n",
    "    \n",
    "        for index, letter in dicc_letra.items():\n",
    "            print(descubierto, '\\n')\n",
    "            letra= input('escoge cualquier letra del abecedario: ')\n",
    "            if letra==letter:\n",
    "                print(letra,letter)\n",
    "                descubierto[index]= letra\n",
    "                descubierto=descubierto\n",
    "                flg=flg+1\n",
    "                print('bandera actualizada:', flg)\n",
    "                print('¡Muy bien! Aun tienes', oportunidades,'oportunidades. ¡Tú puedes!')\n",
    "                if flg==len(palabra):\n",
    "                    print('ganaste!')\n",
    "                    break\n",
    "                \n",
    "            else: \n",
    "                print(letra)\n",
    "                oportunidades-=1\n",
    "                print ('La letra',letra,'no pertenece a la palabra. Aun tienes', oportunidades, 'oportunidades más')\n",
    "    else:\n",
    "        print('perdiste')\n",
    "\n",
    "\n",
    "def inicio():\n",
    "    print (\"Instrucciones\")\n",
    "    hard= int(input(\"Selecciona tu nivel de dificultad: fácil(1), medio(2) ,difícil(3).\"))\n",
    "    while hard==1 or hard==2 or hard==3:\n",
    "        return selecciona_palabra(hard)\n",
    "    else:\n",
    "        print('notok')\n",
    "    "
   ]
  },
  {
   "cell_type": "code",
   "execution_count": null,
   "id": "6a1c88de",
   "metadata": {},
   "outputs": [
    {
     "name": "stdout",
     "output_type": "stream",
     "text": [
      "Instrucciones\n",
      "Selecciona tu nivel de dificultad: fácil(1), medio(2) ,difícil(3).1\n",
      "pez\n",
      "diccionario index_word: {0: 'p', 1: 'e', 2: 'z'}\n",
      "[' ? ', ' ? ', ' ? '] \n",
      "\n",
      "escoge cualquier letra del abecedario: p\n",
      "p p\n",
      "bandera actualizada: 1\n",
      "¡Muy bien! Aun tienes 10 oportunidades. ¡Tú puedes!\n",
      "['p', ' ? ', ' ? '] \n",
      "\n",
      "escoge cualquier letra del abecedario: e\n",
      "e e\n",
      "bandera actualizada: 2\n",
      "¡Muy bien! Aun tienes 10 oportunidades. ¡Tú puedes!\n",
      "['p', 'e', ' ? '] \n",
      "\n",
      "escoge cualquier letra del abecedario: z\n",
      "z z\n",
      "bandera actualizada: 3\n",
      "¡Muy bien! Aun tienes 10 oportunidades. ¡Tú puedes!\n",
      "ganaste!\n",
      "['p', 'e', 'z'] \n",
      "\n"
     ]
    }
   ],
   "source": [
    "inicio()"
   ]
  },
  {
   "cell_type": "markdown",
   "id": "4a9edfd5",
   "metadata": {},
   "source": [
    "### Evolucion del codigo"
   ]
  },
  {
   "cell_type": "code",
   "execution_count": 23,
   "id": "b94593c2",
   "metadata": {},
   "outputs": [
    {
     "data": {
      "text/plain": [
       "{0: 'p', 1: 'a', 2: 'l', 3: 'a', 4: 'b', 5: 'r', 6: 'a'}"
      ]
     },
     "execution_count": 23,
     "metadata": {},
     "output_type": "execute_result"
    }
   ],
   "source": [
    "# Generacion de un diccionario para juntar letras e indices\n",
    "\n",
    "word= 'palabra'\n",
    "\n",
    "dicc_letra= dict([i for i in enumerate(word)])\n",
    "dicc_letra\n",
    "    "
   ]
  },
  {
   "cell_type": "code",
   "execution_count": 24,
   "id": "3454e89f",
   "metadata": {},
   "outputs": [
    {
     "name": "stdout",
     "output_type": "stream",
     "text": [
      "[' ? ', ' ? ', ' ? ', ' ? ', ' ? ', ' ? ', ' ? ']\n",
      "[' ? ', 'a', ' ? ', 'a', ' ? ', ' ? ', 'a']\n"
     ]
    }
   ],
   "source": [
    "# cambio de letra a partir del reconocimiento\n",
    "\n",
    "word= 'palabra'\n",
    "letra= 'a'\n",
    "\n",
    "dicc_letra= dict([i for i in enumerate(word)])\n",
    "descubierto=[' ? ' for i in word ]\n",
    "print(descubierto)\n",
    "\n",
    "\n",
    "for i, j in dicc_letra.items():\n",
    "    if letra==j:\n",
    "        descubierto[i]= j\n",
    "\n",
    "print(descubierto)\n",
    "        "
   ]
  },
  {
   "cell_type": "code",
   "execution_count": 26,
   "id": "8e1931fd",
   "metadata": {},
   "outputs": [
    {
     "name": "stdout",
     "output_type": "stream",
     "text": [
      "letra a\n",
      "[' ? ', ' ? ', ' ? ', ' ? ', ' ? ', ' ? ', ' ? '] \n",
      "\n"
     ]
    }
   ],
   "source": [
    "# implementacion de la entrada por teclado\n",
    "import random\n",
    "\n",
    "lista_palabras_1= ['gato', 'pez', 'casa', 'plato','raton','cinco']\n",
    "lista_palabras_2= ['control','medusa','arroyo','saxofon'] \n",
    "lista_palabras_3= ['botanico', 'rascacielos', 'television']\n",
    "\n",
    "def selecciona_palabra(n):\n",
    "    \n",
    "    if n==1:\n",
    "        palabra= random.choice(lista_palabras_1) \n",
    "        print(palabra)\n",
    "        dicc_letra= dict([i for i in enumerate(palabra)])\n",
    "        print('diccionario index_word:',dicc_letra)\n",
    "        descubierto=[' ? ' for i in palabra ]\n",
    "        oportunidades= 10\n",
    "        flg=0\n",
    "    \n",
    "     \n",
    "    \n",
    "    while oportunidades>0 or flg==(len(palabra)):\n",
    "        for index, letter in dicc_letra.items():\n",
    "            print(descubierto, '\\n')\n",
    "            letra= input('escoge cualquier letra del abecedario: ')\n",
    "            if letra==letter:\n",
    "                descubierto[index]= letra\n",
    "                descubierto=descubierto\n",
    "                flg+=1\n",
    "                print('bandera actualizada:', flg)\n",
    "                print('¡Muy bien! Aun tienes', oportunidades,'oportunidades. ¡Tú puedes!')\n",
    "            else: \n",
    "                oportunidades-=1\n",
    "                print ('La letra',letra,'no pertenece a la palabra. Aun tienes', oportunidades, 'oportunidades más')\n",
    "    else:\n",
    "        print('perdiste')"
   ]
  },
  {
   "cell_type": "markdown",
   "id": "aca11db6",
   "metadata": {},
   "source": [
    "### Pedazos de codigo"
   ]
  },
  {
   "cell_type": "code",
   "execution_count": 5,
   "id": "6ae85ca0",
   "metadata": {},
   "outputs": [],
   "source": [
    "lista_palabras_1= ['gato', 'pez', 'casa', 'plato','raton','cinco']\n",
    "lista_palabras_2= ['control','medusa','arroyo','saxofon'] \n",
    "lista_palabras_3= ['botanico', 'rascacielos', 'television']\n",
    "\n",
    "def selecciona_palabra(n):\n",
    "    oportunidades= 10\n",
    "    \n",
    "    if n==1:\n",
    "        while oportunidades>0:\n",
    "            palabra= random.choice(lista_palabras_1)\n",
    "            print(palabra)\n",
    "            letra= input('escoge cualquier letra del abecedario: ')\n",
    "            if letra in palabra:\n",
    "                print('¡Muy bien! Aun tienes', oportunidades,'oportunidades. ¡Tú puedes!')\n",
    "            else: \n",
    "                oportunidades-=1\n",
    "                print ('La letra',letra,'no pertenece a la palabra. Aun tienes', oportunidades, 'oportunidades más')\n",
    "            # volver al input\n",
    "        \n",
    "        \n",
    "    if n==2: \n",
    "        return random.choice(lista_palabras_2)\n",
    "    if n==3:\n",
    "        return random.choice(lista_palabras_3)\n",
    "\n",
    "def inicio():\n",
    "    print (\"Instrucciones\")\n",
    "    hard= int(input(\"Selecciona tu nivel de dificultad: fácil(1), medio(2) ,difícil(3).\"))\n",
    "    if hard==1 or hard==2 or hard==3:\n",
    "        return selecciona_palabra(hard)\n",
    "    else:\n",
    "        print('notok')"
   ]
  },
  {
   "cell_type": "code",
   "execution_count": null,
   "id": "0d21513a",
   "metadata": {},
   "outputs": [],
   "source": [
    "word= 'palabra'\n",
    "descubierto= []\n",
    "\n",
    "for i in word:\n",
    "    descubierto.append('?')\n",
    "print (descubierto)\n",
    "\n",
    "#letra= input('Ahora escoge una letra')\n",
    "\n",
    "'''\n",
    "lista_cambio=[]\n",
    "for i in word:\n",
    "    if i==letra:\n",
    "        lista_cambio.append(word.index(i))\n",
    "        continue\n",
    "print (lista_cambio)\n",
    "\n",
    "'''"
   ]
  },
  {
   "cell_type": "code",
   "execution_count": 8,
   "id": "8331c42e",
   "metadata": {},
   "outputs": [
    {
     "name": "stdout",
     "output_type": "stream",
     "text": [
      "1 2\n",
      "2 3\n",
      "3 4\n",
      "4 5\n"
     ]
    },
    {
     "ename": "IndexError",
     "evalue": "list index out of range",
     "output_type": "error",
     "traceback": [
      "\u001b[1;31m---------------------------------------------------------------------------\u001b[0m",
      "\u001b[1;31mIndexError\u001b[0m                                Traceback (most recent call last)",
      "Input \u001b[1;32mIn [8]\u001b[0m, in \u001b[0;36m<cell line: 2>\u001b[1;34m()\u001b[0m\n\u001b[0;32m      1\u001b[0m listaa\u001b[38;5;241m=\u001b[39m[\u001b[38;5;241m1\u001b[39m,\u001b[38;5;241m2\u001b[39m,\u001b[38;5;241m3\u001b[39m,\u001b[38;5;241m4\u001b[39m,\u001b[38;5;241m5\u001b[39m]\n\u001b[0;32m      2\u001b[0m \u001b[38;5;28;01mfor\u001b[39;00m i \u001b[38;5;129;01min\u001b[39;00m listaa:\n\u001b[1;32m----> 3\u001b[0m     \u001b[38;5;28mprint\u001b[39m (i,\u001b[43mlistaa\u001b[49m\u001b[43m[\u001b[49m\u001b[43mi\u001b[49m\u001b[43m]\u001b[49m)\n",
      "\u001b[1;31mIndexError\u001b[0m: list index out of range"
     ]
    }
   ],
   "source": [
    "listaa=[1,2,3,4,5]\n",
    "for i in listaa:\n",
    "    print (i,listaa[i]) "
   ]
  },
  {
   "cell_type": "markdown",
   "id": "ae058bd4",
   "metadata": {},
   "source": [
    "### Anotaciones\n",
    "1. Tener una lista de palabras o bd con la opcion random no promete aparecer la palabra si n cuenta con la condicion\n",
    "\n",
    "2. selecciona_palabra debe regresar otra funcion que imprima los espacios a completar\n",
    "3. si mi letra esta en la palabra, el indice de la letra de la palabra sera igual al indice de la lista por descubir"
   ]
  }
 ],
 "metadata": {
  "kernelspec": {
   "display_name": "Python 3 (ipykernel)",
   "language": "python",
   "name": "python3"
  },
  "language_info": {
   "codemirror_mode": {
    "name": "ipython",
    "version": 3
   },
   "file_extension": ".py",
   "mimetype": "text/x-python",
   "name": "python",
   "nbconvert_exporter": "python",
   "pygments_lexer": "ipython3",
   "version": "3.10.3"
  }
 },
 "nbformat": 4,
 "nbformat_minor": 5
}
