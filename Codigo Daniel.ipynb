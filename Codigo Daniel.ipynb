{
 "cells": [
  {
   "cell_type": "code",
   "execution_count": null,
   "id": "125409ea",
   "metadata": {},
   "outputs": [],
   "source": [
    "#subir a la rama cambiosdaniel, no a otra. Se hará un pull request a la rama principal \n",
    "#hasta el final."
   ]
  },
  {
   "cell_type": "code",
   "execution_count": 1,
   "id": "f9e609f3",
   "metadata": {},
   "outputs": [],
   "source": [
    "import random\n",
    "import re\n",
    "import numpy as np"
   ]
  },
  {
   "cell_type": "code",
   "execution_count": null,
   "id": "4fa6bf32",
   "metadata": {},
   "outputs": [],
   "source": [
    "lista_palabras_1= ['gato', 'pez', 'casa', 'plato','raton','cinco']\n",
    "lista_palabras_2= ['control','medusa','arroyo','saxofon'] \n",
    "lista_palabras_3= ['botanico', 'rascacielos', 'television']\n",
    "\n",
    "def selecciona_palabra(n):\n",
    "    if n==1:\n",
    "        random.choice(lista_palabras_1)\n",
    "        return a\n",
    "    if n==2: \n",
    "        return random.choice(lista_palabras_2)\n",
    "    if n==3:\n",
    "        return random.choice(lista_palabras_3)\n",
    "\n",
    "def inicio():\n",
    "    print (\"Instrucciones\")\n",
    "    hard= int(input(\"Selecciona tu nivel de dificultad: fácil(1), medio(2) ,difícil(3).\"))\n",
    "    if hard==1 or hard==2 or hard==3:\n",
    "        return selecciona_palabra(hard)\n",
    "    else:\n",
    "        print('notok')\n",
    "    "
   ]
  },
  {
   "cell_type": "code",
   "execution_count": 89,
   "id": "cc631ae5",
   "metadata": {},
   "outputs": [
    {
     "name": "stdout",
     "output_type": "stream",
     "text": [
      "Instrucciones\n",
      "Selecciona tu nivel de dificultad: fácil(1), medio(2) ,difícil(3).2\n"
     ]
    },
    {
     "data": {
      "text/plain": [
       "'control'"
      ]
     },
     "execution_count": 89,
     "metadata": {},
     "output_type": "execute_result"
    }
   ],
   "source": [
    "inicio()"
   ]
  },
  {
   "cell_type": "code",
   "execution_count": 5,
   "id": "6ae85ca0",
   "metadata": {},
   "outputs": [],
   "source": [
    "lista_palabras_1= ['gato', 'pez', 'casa', 'plato','raton','cinco']\n",
    "lista_palabras_2= ['control','medusa','arroyo','saxofon'] \n",
    "lista_palabras_3= ['botanico', 'rascacielos', 'television']\n",
    "\n",
    "def selecciona_palabra(n):\n",
    "    oportunidades= 10\n",
    "    \n",
    "    if n==1:\n",
    "        while oportunidades>0:\n",
    "            palabra= random.choice(lista_palabras_1)\n",
    "            print(palabra)\n",
    "            letra= input('escoge cualquier letra del abecedario: ')\n",
    "            if letra in palabra:\n",
    "                print('¡Muy bien! Aun tienes', oportunidades,'oportunidades. ¡Tú puedes!')\n",
    "            else: \n",
    "                oportunidades-=1\n",
    "                print ('La letra',letra,'no pertenece a la palabra. Aun tienes', oportunidades, 'oportunidades más')\n",
    "            # volver al input\n",
    "        \n",
    "        \n",
    "    if n==2: \n",
    "        return random.choice(lista_palabras_2)\n",
    "    if n==3:\n",
    "        return random.choice(lista_palabras_3)\n",
    "\n",
    "def inicio():\n",
    "    print (\"Instrucciones\")\n",
    "    hard= int(input(\"Selecciona tu nivel de dificultad: fácil(1), medio(2) ,difícil(3).\"))\n",
    "    if hard==1 or hard==2 or hard==3:\n",
    "        return selecciona_palabra(hard)\n",
    "    else:\n",
    "        print('notok')"
   ]
  },
  {
   "cell_type": "code",
   "execution_count": null,
   "id": "435d2acf",
   "metadata": {},
   "outputs": [],
   "source": [
    "inicio()"
   ]
  },
  {
   "cell_type": "code",
   "execution_count": null,
   "id": "0d21513a",
   "metadata": {},
   "outputs": [],
   "source": [
    "word= 'palabra'\n",
    "descubierto= []\n",
    "for i in word:\n",
    "    descubierto.append('?')\n",
    "print (descubierto)\n",
    "\n",
    "letra= input('Ahora escoge una letra')\n",
    "\n",
    "lista_cambio=[]\n",
    "for i in word:\n",
    "    if i==letra:\n",
    "        lista_cambio.append(word.index(i))\n",
    "        continue\n",
    "print (lista_cambio)\n"
   ]
  },
  {
   "cell_type": "code",
   "execution_count": null,
   "id": "e3234d25",
   "metadata": {},
   "outputs": [],
   "source": [
    "word.index('b')"
   ]
  },
  {
   "cell_type": "markdown",
   "id": "ae058bd4",
   "metadata": {},
   "source": [
    "### Anotaciones\n",
    "1. Tener una lista de palabras o bd con la opcion random no promete aparecer la palabra si n cuenta con la condicion\n",
    "\n",
    "2. selecciona_palabra debe regresar otra funcion que imprima los espacios a completar"
   ]
  },
  {
   "cell_type": "code",
   "execution_count": null,
   "id": "8331c42e",
   "metadata": {},
   "outputs": [],
   "source": []
  }
 ],
 "metadata": {
  "kernelspec": {
   "display_name": "Python 3 (ipykernel)",
   "language": "python",
   "name": "python3"
  },
  "language_info": {
   "codemirror_mode": {
    "name": "ipython",
    "version": 3
   },
   "file_extension": ".py",
   "mimetype": "text/x-python",
   "name": "python",
   "nbconvert_exporter": "python",
   "pygments_lexer": "ipython3",
   "version": "3.10.3"
  }
 },
 "nbformat": 4,
 "nbformat_minor": 5
}
