{
 "cells": [
  {
   "cell_type": "markdown",
   "id": "3f7a814d",
   "metadata": {},
   "source": [
    "### Subir a la rama cambiosdaniel, no a otra. Se hará un pull request a la rama principal hasta el final."
   ]
  },
  {
   "cell_type": "code",
   "execution_count": 3,
   "id": "f9e609f3",
   "metadata": {},
   "outputs": [],
   "source": [
    "import random"
   ]
  },
  {
   "cell_type": "markdown",
   "id": "6305267a",
   "metadata": {},
   "source": [
    "### EL mejorcito\n",
    "\n",
    "Siguientes pasos:\n",
    "\n",
    "1. quitar las listas y unirlo con el excel\n",
    "2. Incluir la opcion 2 y 3 (medio y dificil)\n",
    "3. Incluir la imagen\n",
    "\n",
    "\n",
    "Si se va a correr que sea con la opcion 1"
   ]
  },
  {
   "cell_type": "code",
   "execution_count": 45,
   "id": "1b8292e6",
   "metadata": {},
   "outputs": [],
   "source": [
    "#mejorcito_2\n",
    "lista_palabras_1= ['gato', 'pez', 'casa', 'plato','raton','cinco']\n",
    "lista_palabras_2= ['control','medusa','arroyo','saxofon'] \n",
    "lista_palabras_3= ['botanico', 'rascacielos', 'television']\n",
    "\n",
    "\n",
    "def selecciona_palabra(n):\n",
    "    '''\n",
    "    Selecciona_palabra es una funcion que tiene como parametro la dificultad de la funcion \n",
    "    inicio, y dependiendo el valor ingresado tomara una palabra aleatoria de una BD \n",
    "    y escondera todas las letras que conforman a esa palabra. \n",
    "    \n",
    "    Las letras se iran descubriendo si el usuario logra teclear aquella que pertenezca\n",
    "    a la palabra, si hay mas de dos letras iguales en la palabra, la funcion lograra\n",
    "    aparecer todas sin necesidad de introducir un nuevo registro.\n",
    "    \n",
    "    Caso contrario, si el usuario no logra introducir una letra que pertenezca, las opor-\n",
    "    tunidades que tiene iran disminuyendo hasta que pierda el juego. \n",
    "    \n",
    "    '''\n",
    "    if n==1:\n",
    "        palabra= random.choice(lista_palabras_1) \n",
    "        descubierto=[' ? ' for i in palabra ]\n",
    "       \n",
    "    flg=0    \n",
    "    oportunidades= 10\n",
    "    while oportunidades > 0:\n",
    "        print(descubierto, \"---\", len(palabra), \"letras,\", oportunidades, 'vidas\\n')\n",
    "        letter = input(\"Adivina la palabra, ingrese un caracter válido: \")    \n",
    "        if letter.isalpha() and len(letter) == 1:\n",
    "            for index in range(len(palabra)):\n",
    "                if letter == palabra[index]:\n",
    "                    descubierto[index]=letter\n",
    "                    flg=flg+1\n",
    "                    if flg==len(palabra):\n",
    "                        return ('la palabra es:', palabra, 'Ganaste!')\n",
    "            if letter not in palabra:\n",
    "                oportunidades-=1\n",
    "                print ('La letra',letter,'no pertenece a la palabra. Aun tienes', oportunidades, 'oportunidades más')\n",
    "        else:\n",
    "            print(\"Opcion no valida: has ingresado un caracter no valido, intenta de nuevo\")\n",
    "    else:\n",
    "        return('perdiste')\n",
    "\n",
    "\n",
    "def inicio():\n",
    "    '''\n",
    "    Inicio es una funcion que retornara sobre otra funcion la dificultad del juego\n",
    "    \n",
    "    '''\n",
    "    \n",
    "    print (\"Instrucciones\")\n",
    "    hard= int(input(\"Selecciona tu nivel de dificultad: fácil(1), medio(2) ,difícil(3).\"))\n",
    "    while hard==1 or hard==2 or hard==3:\n",
    "        return selecciona_palabra(hard)\n",
    "    else:\n",
    "        print('notok')\n",
    "        \n",
    "        \n",
    "        \n"
   ]
  },
  {
   "cell_type": "code",
   "execution_count": null,
   "id": "62d48aa3",
   "metadata": {},
   "outputs": [],
   "source": [
    "inicio() #correr prueba"
   ]
  },
  {
   "cell_type": "markdown",
   "id": "4d54cdab",
   "metadata": {},
   "source": [
    "## Anteriores mejorcitos"
   ]
  },
  {
   "cell_type": "code",
   "execution_count": 9,
   "id": "4fa6bf32",
   "metadata": {},
   "outputs": [],
   "source": [
    "#mejorcito_1\n",
    "lista_palabras_1= ['gato', 'pez', 'casa', 'plato','raton','cinco']\n",
    "lista_palabras_2= ['control','medusa','arroyo','saxofon'] \n",
    "lista_palabras_3= ['botanico', 'rascacielos', 'television']\n",
    "\n",
    "\n",
    "def selecciona_palabra(n): \n",
    "    if n==1:\n",
    "        palabra= random.choice(lista_palabras_1) \n",
    "        print(palabra)\n",
    "        dicc_letra= dict([i for i in enumerate(palabra)])\n",
    "        print('diccionario index_word:',dicc_letra)\n",
    "        descubierto=[' ? ' for i in palabra ]\n",
    "        \n",
    "    oportunidades= 10\n",
    "    flg=0\n",
    "    while oportunidades>=0 or flg==len(palabra):\n",
    "    \n",
    "        #for index, letter in dicc_letra.items():\n",
    "            print(descubierto, '\\n')\n",
    "            letra= input('escoge cualquier letra del abecedario: ')\n",
    "            if letra in dicc_letra.keys():\n",
    "                print(letra,letter)\n",
    "                descubierto[dicc_letra.value[letra]]= letra\n",
    "                descubierto=descubierto\n",
    "                flg=flg+1\n",
    "                print('bandera actualizada:', flg)\n",
    "                print('¡Muy bien! Aun tienes', oportunidades,'oportunidades. ¡Tú puedes!')\n",
    "                if flg==len(palabra):\n",
    "                    print('ganaste!')\n",
    "                    break\n",
    "                \n",
    "            else: \n",
    "                print(letra)\n",
    "                oportunidades-=1\n",
    "                print ('La letra',letra,'no pertenece a la palabra. Aun tienes', oportunidades, 'oportunidades más')\n",
    "    else:\n",
    "        print('perdiste')\n",
    "\n",
    "\n",
    "def inicio():\n",
    "    print (\"Instrucciones\")\n",
    "    hard= int(input(\"Selecciona tu nivel de dificultad: fácil(1), medio(2) ,difícil(3).\"))\n",
    "    while hard==1 or hard==2 or hard==3:\n",
    "        return selecciona_palabra(hard)\n",
    "    else:\n",
    "        print('notok')\n",
    "    "
   ]
  },
  {
   "cell_type": "markdown",
   "id": "4a9edfd5",
   "metadata": {},
   "source": [
    "### Evolucion del codigo"
   ]
  },
  {
   "cell_type": "code",
   "execution_count": 23,
   "id": "b94593c2",
   "metadata": {},
   "outputs": [
    {
     "data": {
      "text/plain": [
       "{0: 'p', 1: 'a', 2: 'l', 3: 'a', 4: 'b', 5: 'r', 6: 'a'}"
      ]
     },
     "execution_count": 23,
     "metadata": {},
     "output_type": "execute_result"
    }
   ],
   "source": [
    "# Generacion de un diccionario para juntar letras e indices\n",
    "\n",
    "word= 'palabra'\n",
    "\n",
    "dicc_letra= dict([i for i in enumerate(word)])\n",
    "dicc_letra\n",
    "    "
   ]
  },
  {
   "cell_type": "code",
   "execution_count": 24,
   "id": "3454e89f",
   "metadata": {},
   "outputs": [
    {
     "name": "stdout",
     "output_type": "stream",
     "text": [
      "[' ? ', ' ? ', ' ? ', ' ? ', ' ? ', ' ? ', ' ? ']\n",
      "[' ? ', 'a', ' ? ', 'a', ' ? ', ' ? ', 'a']\n"
     ]
    }
   ],
   "source": [
    "# cambio de letra a partir del reconocimiento\n",
    "\n",
    "word= 'palabra'\n",
    "letra= 'a'\n",
    "\n",
    "dicc_letra= dict([i for i in enumerate(word)])\n",
    "descubierto=[' ? ' for i in word ]\n",
    "print(descubierto)\n",
    "\n",
    "\n",
    "for i, j in dicc_letra.items():\n",
    "    if letra==j:\n",
    "        descubierto[i]= j\n",
    "\n",
    "print(descubierto)\n",
    "        "
   ]
  },
  {
   "cell_type": "code",
   "execution_count": 26,
   "id": "8e1931fd",
   "metadata": {},
   "outputs": [
    {
     "name": "stdout",
     "output_type": "stream",
     "text": [
      "letra a\n",
      "[' ? ', ' ? ', ' ? ', ' ? ', ' ? ', ' ? ', ' ? '] \n",
      "\n"
     ]
    }
   ],
   "source": [
    "# implementacion de la entrada por teclado\n",
    "import random\n",
    "\n",
    "lista_palabras_1= ['gato', 'pez', 'casa', 'plato','raton','cinco']\n",
    "lista_palabras_2= ['control','medusa','arroyo','saxofon'] \n",
    "lista_palabras_3= ['botanico', 'rascacielos', 'television']\n",
    "\n",
    "def selecciona_palabra(n):\n",
    "    \n",
    "    if n==1:\n",
    "        palabra= random.choice(lista_palabras_1) \n",
    "        print(palabra)\n",
    "        dicc_letra= dict([i for i in enumerate(palabra)])\n",
    "        print('diccionario index_word:',dicc_letra)\n",
    "        descubierto=[' ? ' for i in palabra ]\n",
    "        oportunidades= 10\n",
    "        flg=0\n",
    "    \n",
    "     \n",
    "    \n",
    "    while oportunidades>0 or flg==(len(palabra)):\n",
    "        for index, letter in dicc_letra.items():\n",
    "            print(descubierto, '\\n')\n",
    "            letra= input('escoge cualquier letra del abecedario: ')\n",
    "            if letra==letter:\n",
    "                descubierto[index]= letra\n",
    "                descubierto=descubierto\n",
    "                flg+=1\n",
    "                print('bandera actualizada:', flg)\n",
    "                print('¡Muy bien! Aun tienes', oportunidades,'oportunidades. ¡Tú puedes!')\n",
    "            else: \n",
    "                oportunidades-=1\n",
    "                print ('La letra',letra,'no pertenece a la palabra. Aun tienes', oportunidades, 'oportunidades más')\n",
    "    else:\n",
    "        print('perdiste')"
   ]
  },
  {
   "cell_type": "markdown",
   "id": "aca11db6",
   "metadata": {},
   "source": [
    "### Pedazos de codigo"
   ]
  },
  {
   "cell_type": "code",
   "execution_count": 5,
   "id": "6ae85ca0",
   "metadata": {},
   "outputs": [],
   "source": [
    "lista_palabras_1= ['gato', 'pez', 'casa', 'plato','raton','cinco']\n",
    "lista_palabras_2= ['control','medusa','arroyo','saxofon'] \n",
    "lista_palabras_3= ['botanico', 'rascacielos', 'television']\n",
    "\n",
    "def selecciona_palabra(n):\n",
    "    oportunidades= 10\n",
    "    \n",
    "    if n==1:\n",
    "        while oportunidades>0:\n",
    "            palabra= random.choice(lista_palabras_1)\n",
    "            print(palabra)\n",
    "            letra= input('escoge cualquier letra del abecedario: ')\n",
    "            if letra in palabra:\n",
    "                print('¡Muy bien! Aun tienes', oportunidades,'oportunidades. ¡Tú puedes!')\n",
    "            else: \n",
    "                oportunidades-=1\n",
    "                print ('La letra',letra,'no pertenece a la palabra. Aun tienes', oportunidades, 'oportunidades más')\n",
    "            # volver al input\n",
    "        \n",
    "        \n",
    "    if n==2: \n",
    "        return random.choice(lista_palabras_2)\n",
    "    if n==3:\n",
    "        return random.choice(lista_palabras_3)\n",
    "\n",
    "def inicio():\n",
    "    print (\"Instrucciones\")\n",
    "    hard= int(input(\"Selecciona tu nivel de dificultad: fácil(1), medio(2) ,difícil(3).\"))\n",
    "    if hard==1 or hard==2 or hard==3:\n",
    "        return selecciona_palabra(hard)\n",
    "    else:\n",
    "        print('notok')"
   ]
  },
  {
   "cell_type": "code",
   "execution_count": null,
   "id": "0d21513a",
   "metadata": {},
   "outputs": [],
   "source": [
    "word= 'palabra'\n",
    "descubierto= []\n",
    "\n",
    "for i in word:\n",
    "    descubierto.append('?')\n",
    "print (descubierto)\n",
    "\n",
    "#letra= input('Ahora escoge una letra')\n",
    "\n",
    "'''\n",
    "lista_cambio=[]\n",
    "for i in word:\n",
    "    if i==letra:\n",
    "        lista_cambio.append(word.index(i))\n",
    "        continue\n",
    "print (lista_cambio)\n",
    "\n",
    "'''"
   ]
  },
  {
   "cell_type": "code",
   "execution_count": 8,
   "id": "8331c42e",
   "metadata": {},
   "outputs": [
    {
     "name": "stdout",
     "output_type": "stream",
     "text": [
      "1 2\n",
      "2 3\n",
      "3 4\n",
      "4 5\n"
     ]
    },
    {
     "ename": "IndexError",
     "evalue": "list index out of range",
     "output_type": "error",
     "traceback": [
      "\u001b[1;31m---------------------------------------------------------------------------\u001b[0m",
      "\u001b[1;31mIndexError\u001b[0m                                Traceback (most recent call last)",
      "Input \u001b[1;32mIn [8]\u001b[0m, in \u001b[0;36m<cell line: 2>\u001b[1;34m()\u001b[0m\n\u001b[0;32m      1\u001b[0m listaa\u001b[38;5;241m=\u001b[39m[\u001b[38;5;241m1\u001b[39m,\u001b[38;5;241m2\u001b[39m,\u001b[38;5;241m3\u001b[39m,\u001b[38;5;241m4\u001b[39m,\u001b[38;5;241m5\u001b[39m]\n\u001b[0;32m      2\u001b[0m \u001b[38;5;28;01mfor\u001b[39;00m i \u001b[38;5;129;01min\u001b[39;00m listaa:\n\u001b[1;32m----> 3\u001b[0m     \u001b[38;5;28mprint\u001b[39m (i,\u001b[43mlistaa\u001b[49m\u001b[43m[\u001b[49m\u001b[43mi\u001b[49m\u001b[43m]\u001b[49m)\n",
      "\u001b[1;31mIndexError\u001b[0m: list index out of range"
     ]
    }
   ],
   "source": [
    "listaa=[1,2,3,4,5]\n",
    "for i in listaa:\n",
    "    print (i,listaa[i]) "
   ]
  },
  {
   "cell_type": "markdown",
   "id": "ae058bd4",
   "metadata": {},
   "source": [
    "### Anotaciones\n",
    "1. Tener una lista de palabras o bd con la opcion random no promete aparecer la palabra si n cuenta con la condicion\n",
    "\n",
    "2. selecciona_palabra debe regresar otra funcion que imprima los espacios a completar\n",
    "3. si mi letra esta en la palabra, el indice de la letra de la palabra sera igual al indice de la lista por descubir"
   ]
  }
 ],
 "metadata": {
  "kernelspec": {
   "display_name": "Python 3 (ipykernel)",
   "language": "python",
   "name": "python3"
  },
  "language_info": {
   "codemirror_mode": {
    "name": "ipython",
    "version": 3
   },
   "file_extension": ".py",
   "mimetype": "text/x-python",
   "name": "python",
   "nbconvert_exporter": "python",
   "pygments_lexer": "ipython3",
   "version": "3.10.3"
  }
 },
 "nbformat": 4,
 "nbformat_minor": 5
}
